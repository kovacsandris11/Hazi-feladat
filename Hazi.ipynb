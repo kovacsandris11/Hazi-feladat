{
    "metadata": {
        "kernelspec": {
            "name": "SQL",
            "display_name": "SQL",
            "language": "sql"
        },
        "language_info": {
            "name": "sql",
            "version": ""
        }
    },
    "nbformat_minor": 2,
    "nbformat": 4,
    "cells": [
        {
            "cell_type": "code",
            "source": [
                "SELECT FIZ_MOD,\r\n",
                "        COUNT(*) AS 'DB'\r\n",
                "FROM Rendeles\r\n",
                "GROUP BY FIZ_MOD"
            ],
            "metadata": {
                "azdata_cell_guid": "c3df6af9-16f5-4c69-8c55-ff96cdb9cd4a",
                "language": "sql"
            },
            "outputs": [
                {
                    "output_type": "display_data",
                    "data": {
                        "text/html": "(3 rows affected)"
                    },
                    "metadata": {}
                },
                {
                    "output_type": "display_data",
                    "data": {
                        "text/html": "Total execution time: 00:00:00.033"
                    },
                    "metadata": {}
                },
                {
                    "output_type": "execute_result",
                    "metadata": {},
                    "execution_count": 5,
                    "data": {
                        "application/vnd.dataresource+json": {
                            "schema": {
                                "fields": [
                                    {
                                        "name": "FIZ_MOD"
                                    },
                                    {
                                        "name": "DB"
                                    }
                                ]
                            },
                            "data": [
                                {
                                    "FIZ_MOD": "Bankkártya",
                                    "DB": "14003"
                                },
                                {
                                    "FIZ_MOD": "Átutalás",
                                    "DB": "11284"
                                },
                                {
                                    "FIZ_MOD": "Készpénz",
                                    "DB": "2798"
                                }
                            ]
                        },
                        "text/html": [
                            "<table>",
                            "<tr><th>FIZ_MOD</th><th>DB</th></tr>",
                            "<tr><td>Bankkártya</td><td>14003</td></tr>",
                            "<tr><td>Átutalás</td><td>11284</td></tr>",
                            "<tr><td>Készpénz</td><td>2798</td></tr>",
                            "</table>"
                        ]
                    }
                }
            ],
            "execution_count": 5
        },
        {
            "cell_type": "code",
            "source": [
                "SELECT MIN(REND_DATUM) as 'Első rendelés dátuma',\r\n",
                "        MAX(REND_DATUM) as 'Utolsó rendelés dátuma'\r\n",
                "FROM RENDELES"
            ],
            "metadata": {
                "azdata_cell_guid": "63e8a851-cf66-4684-818a-d256fbf5866d",
                "language": "sql"
            },
            "outputs": [
                {
                    "output_type": "display_data",
                    "data": {
                        "text/html": "(1 row affected)"
                    },
                    "metadata": {}
                },
                {
                    "output_type": "display_data",
                    "data": {
                        "text/html": "Total execution time: 00:00:00.027"
                    },
                    "metadata": {}
                },
                {
                    "output_type": "execute_result",
                    "metadata": {},
                    "execution_count": 6,
                    "data": {
                        "application/vnd.dataresource+json": {
                            "schema": {
                                "fields": [
                                    {
                                        "name": "Első rendelés dátuma"
                                    },
                                    {
                                        "name": "Utolsó rendelés dátuma"
                                    }
                                ]
                            },
                            "data": [
                                {
                                    "Első rendelés dátuma": "2015-05-01",
                                    "Utolsó rendelés dátuma": "2017-04-01"
                                }
                            ]
                        },
                        "text/html": [
                            "<table>",
                            "<tr><th>Első rendelés dátuma</th><th>Utolsó rendelés dátuma</th></tr>",
                            "<tr><td>2015-05-01</td><td>2017-04-01</td></tr>",
                            "</table>"
                        ]
                    }
                }
            ],
            "execution_count": 6
        },
        {
            "cell_type": "code",
            "source": [
                "SELECT \r\n",
                "    COUNT(*) AS 'Összes sor száma',\r\n",
                "    COUNT(*) - COUNT(SZALL_CIM) as 'Hiányzó Szállításí címek száma',\r\n",
                "    COUNT(*) - COUNT(SZAMLA_CIM) AS 'Hiányzó Számlacímek száma'\r\n",
                "FROM Rendeles"
            ],
            "metadata": {
                "azdata_cell_guid": "843c9de2-3434-4168-90dc-e3c45a578563",
                "language": "sql"
            },
            "outputs": [
                {
                    "output_type": "display_data",
                    "data": {
                        "text/html": "Warning: Null value is eliminated by an aggregate or other SET operation."
                    },
                    "metadata": {}
                },
                {
                    "output_type": "display_data",
                    "data": {
                        "text/html": "(1 row affected)"
                    },
                    "metadata": {}
                },
                {
                    "output_type": "display_data",
                    "data": {
                        "text/html": "Total execution time: 00:00:00.026"
                    },
                    "metadata": {}
                },
                {
                    "output_type": "execute_result",
                    "metadata": {},
                    "execution_count": 9,
                    "data": {
                        "application/vnd.dataresource+json": {
                            "schema": {
                                "fields": [
                                    {
                                        "name": "Összes sor száma"
                                    },
                                    {
                                        "name": "Hiányzó Login-ok száma"
                                    },
                                    {
                                        "name": "Hiányzó Számlacímek száma"
                                    }
                                ]
                            },
                            "data": [
                                {
                                    "Összes sor száma": "28085",
                                    "Hiányzó Login-ok száma": "21689",
                                    "Hiányzó Számlacímek száma": "25535"
                                }
                            ]
                        },
                        "text/html": [
                            "<table>",
                            "<tr><th>Összes sor száma</th><th>Hiányzó Login-ok száma</th><th>Hiányzó Számlacímek száma</th></tr>",
                            "<tr><td>28085</td><td>21689</td><td>25535</td></tr>",
                            "</table>"
                        ]
                    }
                }
            ],
            "execution_count": 9
        },
        {
            "cell_type": "code",
            "source": [
                "SELECT [LOGIN], COUNT(*) as 'Rendelések száma'\r\n",
                "FROM Rendeles\r\n",
                "GROUP BY [LOGIN]\r\n",
                "HAVING COUNT(*)>1"
            ],
            "metadata": {
                "azdata_cell_guid": "ab3baa66-32a0-4896-8e22-3097234c410e",
                "language": "sql"
            },
            "outputs": [
                {
                    "output_type": "display_data",
                    "data": {
                        "text/html": "(191 rows affected)"
                    },
                    "metadata": {}
                },
                {
                    "output_type": "display_data",
                    "data": {
                        "text/html": "Total execution time: 00:00:00.102"
                    },
                    "metadata": {}
                },
                {
                    "output_type": "execute_result",
                    "metadata": {},
                    "execution_count": 10,
                    "data": {
                        "application/vnd.dataresource+json": {
                            "schema": {
                                "fields": [
                                    {
                                        "name": "LOGIN"
                                    },
                                    {
                                        "name": "(No column name)"
                                    }
                                ]
                            },
                            "data": [
                                {
                                    "LOGIN": "ISTVANV",
                                    "(No column name)": "21"
                                },
                                {
                                    "LOGIN": "tibor",
                                    "(No column name)": "374"
                                },
                                {
                                    "LOGIN": "david4",
                                    "(No column name)": "21"
                                },
                                {
                                    "LOGIN": "aladar",
                                    "(No column name)": "408"
                                },
                                {
                                    "LOGIN": "SZILARDS",
                                    "(No column name)": "386"
                                },
                                {
                                    "LOGIN": "ROBERTP",
                                    "(No column name)": "26"
                                },
                                {
                                    "LOGIN": "laszlo2",
                                    "(No column name)": "25"
                                },
                                {
                                    "LOGIN": "BERNADETTO",
                                    "(No column name)": "16"
                                },
                                {
                                    "LOGIN": "sandor3",
                                    "(No column name)": "14"
                                },
                                {
                                    "LOGIN": "pal",
                                    "(No column name)": "438"
                                },
                                {
                                    "LOGIN": "ROBERTI",
                                    "(No column name)": "13"
                                },
                                {
                                    "LOGIN": "ZSOLTJ",
                                    "(No column name)": "18"
                                },
                                {
                                    "LOGIN": "roland1",
                                    "(No column name)": "432"
                                },
                                {
                                    "LOGIN": "gabriella10",
                                    "(No column name)": "16"
                                },
                                {
                                    "LOGIN": "ZSUZSAV",
                                    "(No column name)": "420"
                                },
                                {
                                    "LOGIN": "brigitta",
                                    "(No column name)": "393"
                                },
                                {
                                    "LOGIN": "JUDITH",
                                    "(No column name)": "450"
                                },
                                {
                                    "LOGIN": "ANNAMARIAR",
                                    "(No column name)": "13"
                                },
                                {
                                    "LOGIN": "aniko",
                                    "(No column name)": "403"
                                },
                                {
                                    "LOGIN": "fruzsina4",
                                    "(No column name)": "18"
                                },
                                {
                                    "LOGIN": "vivien3",
                                    "(No column name)": "22"
                                },
                                {
                                    "LOGIN": "adam3",
                                    "(No column name)": "15"
                                },
                                {
                                    "LOGIN": "tunde",
                                    "(No column name)": "16"
                                },
                                {
                                    "LOGIN": "GYORGYO",
                                    "(No column name)": "16"
                                },
                                {
                                    "LOGIN": "kata",
                                    "(No column name)": "12"
                                },
                                {
                                    "LOGIN": "krisztina1",
                                    "(No column name)": "22"
                                },
                                {
                                    "LOGIN": "eva2",
                                    "(No column name)": "462"
                                },
                                {
                                    "LOGIN": "RENATAS",
                                    "(No column name)": "16"
                                },
                                {
                                    "LOGIN": "daniel",
                                    "(No column name)": "13"
                                },
                                {
                                    "LOGIN": "arpad2",
                                    "(No column name)": "17"
                                },
                                {
                                    "LOGIN": "julianna4",
                                    "(No column name)": "27"
                                },
                                {
                                    "LOGIN": "maria1",
                                    "(No column name)": "10"
                                },
                                {
                                    "LOGIN": "gabor1",
                                    "(No column name)": "19"
                                },
                                {
                                    "LOGIN": "MATYASS",
                                    "(No column name)": "12"
                                },
                                {
                                    "LOGIN": "ATTILAO",
                                    "(No column name)": "14"
                                },
                                {
                                    "LOGIN": "sandor",
                                    "(No column name)": "17"
                                },
                                {
                                    "LOGIN": "MIKLOSB",
                                    "(No column name)": "15"
                                },
                                {
                                    "LOGIN": "ANDREAT",
                                    "(No column name)": "21"
                                },
                                {
                                    "LOGIN": "matyas2",
                                    "(No column name)": "433"
                                },
                                {
                                    "LOGIN": "peter4",
                                    "(No column name)": "852"
                                },
                                {
                                    "LOGIN": "tamas",
                                    "(No column name)": "421"
                                },
                                {
                                    "LOGIN": "BENCEB",
                                    "(No column name)": "17"
                                },
                                {
                                    "LOGIN": "andrea3",
                                    "(No column name)": "413"
                                },
                                {
                                    "LOGIN": "RENATAK",
                                    "(No column name)": "422"
                                },
                                {
                                    "LOGIN": "ANDRASE",
                                    "(No column name)": "436"
                                },
                                {
                                    "LOGIN": "ARONK",
                                    "(No column name)": "430"
                                },
                                {
                                    "LOGIN": "balazs3",
                                    "(No column name)": "15"
                                },
                                {
                                    "LOGIN": "peter3",
                                    "(No column name)": "25"
                                },
                                {
                                    "LOGIN": "jozsef2",
                                    "(No column name)": "13"
                                },
                                {
                                    "LOGIN": "JANOSP",
                                    "(No column name)": "17"
                                },
                                {
                                    "LOGIN": "akos",
                                    "(No column name)": "429"
                                },
                                {
                                    "LOGIN": "adam4",
                                    "(No column name)": "29"
                                },
                                {
                                    "LOGIN": "krisztina",
                                    "(No column name)": "456"
                                },
                                {
                                    "LOGIN": "reka4",
                                    "(No column name)": "20"
                                },
                                {
                                    "LOGIN": "peter1",
                                    "(No column name)": "412"
                                },
                                {
                                    "LOGIN": "sebestyen",
                                    "(No column name)": "16"
                                },
                                {
                                    "LOGIN": "csongor3",
                                    "(No column name)": "15"
                                },
                                {
                                    "LOGIN": "andras4",
                                    "(No column name)": "12"
                                },
                                {
                                    "LOGIN": "BEATRIXK",
                                    "(No column name)": "435"
                                },
                                {
                                    "LOGIN": "attila4",
                                    "(No column name)": "401"
                                },
                                {
                                    "LOGIN": "aniko4",
                                    "(No column name)": "15"
                                },
                                {
                                    "LOGIN": "andras2",
                                    "(No column name)": "22"
                                },
                                {
                                    "LOGIN": "AGNESH",
                                    "(No column name)": "11"
                                },
                                {
                                    "LOGIN": "bence",
                                    "(No column name)": "18"
                                },
                                {
                                    "LOGIN": "anita",
                                    "(No column name)": "12"
                                },
                                {
                                    "LOGIN": "balint2",
                                    "(No column name)": "17"
                                },
                                {
                                    "LOGIN": "dora3",
                                    "(No column name)": "432"
                                },
                                {
                                    "LOGIN": "GYONGYIK",
                                    "(No column name)": "15"
                                },
                                {
                                    "LOGIN": "agnes",
                                    "(No column name)": "418"
                                },
                                {
                                    "LOGIN": "ANDRASN",
                                    "(No column name)": "24"
                                },
                                {
                                    "LOGIN": "henrik3",
                                    "(No column name)": "16"
                                },
                                {
                                    "LOGIN": "szabolcs",
                                    "(No column name)": "471"
                                },
                                {
                                    "LOGIN": "alexandra",
                                    "(No column name)": "19"
                                },
                                {
                                    "LOGIN": "GABORS",
                                    "(No column name)": "15"
                                },
                                {
                                    "LOGIN": "laszlo1",
                                    "(No column name)": "394"
                                },
                                {
                                    "LOGIN": "zsofi1",
                                    "(No column name)": "19"
                                },
                                {
                                    "LOGIN": "BELAF",
                                    "(No column name)": "18"
                                },
                                {
                                    "LOGIN": "gusztav",
                                    "(No column name)": "14"
                                },
                                {
                                    "LOGIN": "TAMASF",
                                    "(No column name)": "433"
                                },
                                {
                                    "LOGIN": "zoltan",
                                    "(No column name)": "15"
                                },
                                {
                                    "LOGIN": "rajmond4",
                                    "(No column name)": "17"
                                },
                                {
                                    "LOGIN": "dani",
                                    "(No column name)": "13"
                                },
                                {
                                    "LOGIN": "janos3",
                                    "(No column name)": "13"
                                },
                                {
                                    "LOGIN": "ANIKOS",
                                    "(No column name)": "404"
                                },
                                {
                                    "LOGIN": "katalin",
                                    "(No column name)": "19"
                                },
                                {
                                    "LOGIN": "bernadett1",
                                    "(No column name)": "20"
                                },
                                {
                                    "LOGIN": "kriszti",
                                    "(No column name)": "13"
                                },
                                {
                                    "LOGIN": "andras41",
                                    "(No column name)": "419"
                                },
                                {
                                    "LOGIN": "EVAV",
                                    "(No column name)": "7"
                                },
                                {
                                    "LOGIN": "adam1",
                                    "(No column name)": "392"
                                },
                                {
                                    "LOGIN": "eszter2",
                                    "(No column name)": "415"
                                },
                                {
                                    "LOGIN": "roland",
                                    "(No column name)": "414"
                                },
                                {
                                    "LOGIN": "ilona3",
                                    "(No column name)": "18"
                                },
                                {
                                    "LOGIN": "bertalan",
                                    "(No column name)": "353"
                                },
                                {
                                    "LOGIN": "aron2",
                                    "(No column name)": "409"
                                },
                                {
                                    "LOGIN": "KRISZTIANM",
                                    "(No column name)": "384"
                                },
                                {
                                    "LOGIN": "PETERB",
                                    "(No column name)": "15"
                                },
                                {
                                    "LOGIN": "balint1",
                                    "(No column name)": "462"
                                },
                                {
                                    "LOGIN": "jozsef",
                                    "(No column name)": "382"
                                },
                                {
                                    "LOGIN": "robert2",
                                    "(No column name)": "13"
                                },
                                {
                                    "LOGIN": "edit",
                                    "(No column name)": "13"
                                },
                                {
                                    "LOGIN": "norbert2",
                                    "(No column name)": "11"
                                },
                                {
                                    "LOGIN": "polla",
                                    "(No column name)": "22"
                                },
                                {
                                    "LOGIN": "JANOSG",
                                    "(No column name)": "10"
                                },
                                {
                                    "LOGIN": "timea2",
                                    "(No column name)": "16"
                                },
                                {
                                    "LOGIN": "zsuzsa3",
                                    "(No column name)": "16"
                                },
                                {
                                    "LOGIN": "MATEK",
                                    "(No column name)": "25"
                                },
                                {
                                    "LOGIN": "david1",
                                    "(No column name)": "17"
                                },
                                {
                                    "LOGIN": "miklos2",
                                    "(No column name)": "13"
                                },
                                {
                                    "LOGIN": "zsuzsanna",
                                    "(No column name)": "15"
                                },
                                {
                                    "LOGIN": "tihamer",
                                    "(No column name)": "20"
                                },
                                {
                                    "LOGIN": "kristof4",
                                    "(No column name)": "21"
                                },
                                {
                                    "LOGIN": "nikolett3",
                                    "(No column name)": "17"
                                },
                                {
                                    "LOGIN": "tibor2",
                                    "(No column name)": "25"
                                },
                                {
                                    "LOGIN": "peter2",
                                    "(No column name)": "18"
                                },
                                {
                                    "LOGIN": "ARPADM",
                                    "(No column name)": "16"
                                },
                                {
                                    "LOGIN": "lajos",
                                    "(No column name)": "16"
                                },
                                {
                                    "LOGIN": "NANDORF",
                                    "(No column name)": "420"
                                },
                                {
                                    "LOGIN": "gabor4",
                                    "(No column name)": "20"
                                },
                                {
                                    "LOGIN": "MIHALYJ",
                                    "(No column name)": "13"
                                },
                                {
                                    "LOGIN": "marton",
                                    "(No column name)": "14"
                                },
                                {
                                    "LOGIN": "andrea4",
                                    "(No column name)": "18"
                                },
                                {
                                    "LOGIN": "balint",
                                    "(No column name)": "16"
                                },
                                {
                                    "LOGIN": "norbert4",
                                    "(No column name)": "13"
                                },
                                {
                                    "LOGIN": "veronika4",
                                    "(No column name)": "18"
                                },
                                {
                                    "LOGIN": "kati",
                                    "(No column name)": "13"
                                },
                                {
                                    "LOGIN": "istvan",
                                    "(No column name)": "11"
                                },
                                {
                                    "LOGIN": "ARPADH",
                                    "(No column name)": "14"
                                },
                                {
                                    "LOGIN": "andrea",
                                    "(No column name)": "24"
                                },
                                {
                                    "LOGIN": "roza2",
                                    "(No column name)": "8"
                                },
                                {
                                    "LOGIN": "sara",
                                    "(No column name)": "20"
                                },
                                {
                                    "LOGIN": "balazs2",
                                    "(No column name)": "17"
                                },
                                {
                                    "LOGIN": "VIKTORK",
                                    "(No column name)": "20"
                                },
                                {
                                    "LOGIN": "lala",
                                    "(No column name)": "17"
                                },
                                {
                                    "LOGIN": "eszter4",
                                    "(No column name)": "424"
                                },
                                {
                                    "LOGIN": "VIKTORIAU",
                                    "(No column name)": "14"
                                },
                                {
                                    "LOGIN": "annamaria1",
                                    "(No column name)": "16"
                                },
                                {
                                    "LOGIN": "istvan1",
                                    "(No column name)": "19"
                                },
                                {
                                    "LOGIN": "julia4",
                                    "(No column name)": "14"
                                },
                                {
                                    "LOGIN": "bernadett2",
                                    "(No column name)": "15"
                                },
                                {
                                    "LOGIN": "david",
                                    "(No column name)": "451"
                                },
                                {
                                    "LOGIN": "eva",
                                    "(No column name)": "404"
                                },
                                {
                                    "LOGIN": "attila1",
                                    "(No column name)": "18"
                                },
                                {
                                    "LOGIN": "denes",
                                    "(No column name)": "9"
                                },
                                {
                                    "LOGIN": "balazs1",
                                    "(No column name)": "419"
                                },
                                {
                                    "LOGIN": "zoltan4",
                                    "(No column name)": "424"
                                },
                                {
                                    "LOGIN": "balu",
                                    "(No column name)": "387"
                                },
                                {
                                    "LOGIN": "SZABOLCSM",
                                    "(No column name)": "408"
                                },
                                {
                                    "LOGIN": "katalin4",
                                    "(No column name)": "23"
                                },
                                {
                                    "LOGIN": "ZOLTANP",
                                    "(No column name)": "13"
                                },
                                {
                                    "LOGIN": "daniel1",
                                    "(No column name)": "419"
                                },
                                {
                                    "LOGIN": "andi",
                                    "(No column name)": "18"
                                },
                                {
                                    "LOGIN": "timea",
                                    "(No column name)": "55"
                                },
                                {
                                    "LOGIN": "andras3",
                                    "(No column name)": "9"
                                },
                                {
                                    "LOGIN": "nikoletta4",
                                    "(No column name)": "414"
                                },
                                {
                                    "LOGIN": "imre1",
                                    "(No column name)": "15"
                                },
                                {
                                    "LOGIN": "LASZLON",
                                    "(No column name)": "400"
                                },
                                {
                                    "LOGIN": "sandor4",
                                    "(No column name)": "11"
                                },
                                {
                                    "LOGIN": "andras21",
                                    "(No column name)": "390"
                                },
                                {
                                    "LOGIN": "zsuzsa",
                                    "(No column name)": "16"
                                },
                                {
                                    "LOGIN": "kornel4",
                                    "(No column name)": "11"
                                },
                                {
                                    "LOGIN": "ESZTERE",
                                    "(No column name)": "22"
                                },
                                {
                                    "LOGIN": "anett3",
                                    "(No column name)": "18"
                                },
                                {
                                    "LOGIN": "klaudia2",
                                    "(No column name)": "17"
                                },
                                {
                                    "LOGIN": "agnes3",
                                    "(No column name)": "430"
                                },
                                {
                                    "LOGIN": "gabriella1",
                                    "(No column name)": "14"
                                },
                                {
                                    "LOGIN": "krisztian4",
                                    "(No column name)": "17"
                                },
                                {
                                    "LOGIN": "ferenc1",
                                    "(No column name)": "437"
                                },
                                {
                                    "LOGIN": "zsolt1",
                                    "(No column name)": "20"
                                },
                                {
                                    "LOGIN": "brigitta3",
                                    "(No column name)": "413"
                                },
                                {
                                    "LOGIN": "ZOLTANT",
                                    "(No column name)": "357"
                                },
                                {
                                    "LOGIN": "imre",
                                    "(No column name)": "15"
                                },
                                {
                                    "LOGIN": "valentin",
                                    "(No column name)": "13"
                                },
                                {
                                    "LOGIN": "AGNESK",
                                    "(No column name)": "15"
                                },
                                {
                                    "LOGIN": "szilvia1",
                                    "(No column name)": "445"
                                },
                                {
                                    "LOGIN": "MARKH",
                                    "(No column name)": "412"
                                },
                                {
                                    "LOGIN": "SEBASTIANF",
                                    "(No column name)": "15"
                                },
                                {
                                    "LOGIN": "JOZSEFG",
                                    "(No column name)": "21"
                                },
                                {
                                    "LOGIN": "KRISZTINAG",
                                    "(No column name)": "22"
                                },
                                {
                                    "LOGIN": "georgij",
                                    "(No column name)": "21"
                                },
                                {
                                    "LOGIN": "debora",
                                    "(No column name)": "16"
                                },
                                {
                                    "LOGIN": "emese",
                                    "(No column name)": "406"
                                },
                                {
                                    "LOGIN": "IBOLYAA",
                                    "(No column name)": "422"
                                },
                                {
                                    "LOGIN": "tamara2",
                                    "(No column name)": "13"
                                },
                                {
                                    "LOGIN": "MONIKAM",
                                    "(No column name)": "407"
                                },
                                {
                                    "LOGIN": "katka",
                                    "(No column name)": "22"
                                },
                                {
                                    "LOGIN": "norbert5",
                                    "(No column name)": "16"
                                },
                                {
                                    "LOGIN": "LASZLOA",
                                    "(No column name)": "446"
                                },
                                {
                                    "LOGIN": "julia",
                                    "(No column name)": "435"
                                },
                                {
                                    "LOGIN": "NIKOLETTAT",
                                    "(No column name)": "25"
                                },
                                {
                                    "LOGIN": "BEATRIXS",
                                    "(No column name)": "420"
                                }
                            ]
                        },
                        "text/html": [
                            "<table>",
                            "<tr><th>LOGIN</th><th>(No column name)</th></tr>",
                            "<tr><td>ISTVANV</td><td>21</td></tr>",
                            "<tr><td>tibor</td><td>374</td></tr>",
                            "<tr><td>david4</td><td>21</td></tr>",
                            "<tr><td>aladar</td><td>408</td></tr>",
                            "<tr><td>SZILARDS</td><td>386</td></tr>",
                            "<tr><td>ROBERTP</td><td>26</td></tr>",
                            "<tr><td>laszlo2</td><td>25</td></tr>",
                            "<tr><td>BERNADETTO</td><td>16</td></tr>",
                            "<tr><td>sandor3</td><td>14</td></tr>",
                            "<tr><td>pal</td><td>438</td></tr>",
                            "<tr><td>ROBERTI</td><td>13</td></tr>",
                            "<tr><td>ZSOLTJ</td><td>18</td></tr>",
                            "<tr><td>roland1</td><td>432</td></tr>",
                            "<tr><td>gabriella10</td><td>16</td></tr>",
                            "<tr><td>ZSUZSAV</td><td>420</td></tr>",
                            "<tr><td>brigitta</td><td>393</td></tr>",
                            "<tr><td>JUDITH</td><td>450</td></tr>",
                            "<tr><td>ANNAMARIAR</td><td>13</td></tr>",
                            "<tr><td>aniko</td><td>403</td></tr>",
                            "<tr><td>fruzsina4</td><td>18</td></tr>",
                            "<tr><td>vivien3</td><td>22</td></tr>",
                            "<tr><td>adam3</td><td>15</td></tr>",
                            "<tr><td>tunde</td><td>16</td></tr>",
                            "<tr><td>GYORGYO</td><td>16</td></tr>",
                            "<tr><td>kata</td><td>12</td></tr>",
                            "<tr><td>krisztina1</td><td>22</td></tr>",
                            "<tr><td>eva2</td><td>462</td></tr>",
                            "<tr><td>RENATAS</td><td>16</td></tr>",
                            "<tr><td>daniel</td><td>13</td></tr>",
                            "<tr><td>arpad2</td><td>17</td></tr>",
                            "<tr><td>julianna4</td><td>27</td></tr>",
                            "<tr><td>maria1</td><td>10</td></tr>",
                            "<tr><td>gabor1</td><td>19</td></tr>",
                            "<tr><td>MATYASS</td><td>12</td></tr>",
                            "<tr><td>ATTILAO</td><td>14</td></tr>",
                            "<tr><td>sandor</td><td>17</td></tr>",
                            "<tr><td>MIKLOSB</td><td>15</td></tr>",
                            "<tr><td>ANDREAT</td><td>21</td></tr>",
                            "<tr><td>matyas2</td><td>433</td></tr>",
                            "<tr><td>peter4</td><td>852</td></tr>",
                            "<tr><td>tamas</td><td>421</td></tr>",
                            "<tr><td>BENCEB</td><td>17</td></tr>",
                            "<tr><td>andrea3</td><td>413</td></tr>",
                            "<tr><td>RENATAK</td><td>422</td></tr>",
                            "<tr><td>ANDRASE</td><td>436</td></tr>",
                            "<tr><td>ARONK</td><td>430</td></tr>",
                            "<tr><td>balazs3</td><td>15</td></tr>",
                            "<tr><td>peter3</td><td>25</td></tr>",
                            "<tr><td>jozsef2</td><td>13</td></tr>",
                            "<tr><td>JANOSP</td><td>17</td></tr>",
                            "<tr><td>akos</td><td>429</td></tr>",
                            "<tr><td>adam4</td><td>29</td></tr>",
                            "<tr><td>krisztina</td><td>456</td></tr>",
                            "<tr><td>reka4</td><td>20</td></tr>",
                            "<tr><td>peter1</td><td>412</td></tr>",
                            "<tr><td>sebestyen</td><td>16</td></tr>",
                            "<tr><td>csongor3</td><td>15</td></tr>",
                            "<tr><td>andras4</td><td>12</td></tr>",
                            "<tr><td>BEATRIXK</td><td>435</td></tr>",
                            "<tr><td>attila4</td><td>401</td></tr>",
                            "<tr><td>aniko4</td><td>15</td></tr>",
                            "<tr><td>andras2</td><td>22</td></tr>",
                            "<tr><td>AGNESH</td><td>11</td></tr>",
                            "<tr><td>bence</td><td>18</td></tr>",
                            "<tr><td>anita</td><td>12</td></tr>",
                            "<tr><td>balint2</td><td>17</td></tr>",
                            "<tr><td>dora3</td><td>432</td></tr>",
                            "<tr><td>GYONGYIK</td><td>15</td></tr>",
                            "<tr><td>agnes</td><td>418</td></tr>",
                            "<tr><td>ANDRASN</td><td>24</td></tr>",
                            "<tr><td>henrik3</td><td>16</td></tr>",
                            "<tr><td>szabolcs</td><td>471</td></tr>",
                            "<tr><td>alexandra</td><td>19</td></tr>",
                            "<tr><td>GABORS</td><td>15</td></tr>",
                            "<tr><td>laszlo1</td><td>394</td></tr>",
                            "<tr><td>zsofi1</td><td>19</td></tr>",
                            "<tr><td>BELAF</td><td>18</td></tr>",
                            "<tr><td>gusztav</td><td>14</td></tr>",
                            "<tr><td>TAMASF</td><td>433</td></tr>",
                            "<tr><td>zoltan</td><td>15</td></tr>",
                            "<tr><td>rajmond4</td><td>17</td></tr>",
                            "<tr><td>dani</td><td>13</td></tr>",
                            "<tr><td>janos3</td><td>13</td></tr>",
                            "<tr><td>ANIKOS</td><td>404</td></tr>",
                            "<tr><td>katalin</td><td>19</td></tr>",
                            "<tr><td>bernadett1</td><td>20</td></tr>",
                            "<tr><td>kriszti</td><td>13</td></tr>",
                            "<tr><td>andras41</td><td>419</td></tr>",
                            "<tr><td>EVAV</td><td>7</td></tr>",
                            "<tr><td>adam1</td><td>392</td></tr>",
                            "<tr><td>eszter2</td><td>415</td></tr>",
                            "<tr><td>roland</td><td>414</td></tr>",
                            "<tr><td>ilona3</td><td>18</td></tr>",
                            "<tr><td>bertalan</td><td>353</td></tr>",
                            "<tr><td>aron2</td><td>409</td></tr>",
                            "<tr><td>KRISZTIANM</td><td>384</td></tr>",
                            "<tr><td>PETERB</td><td>15</td></tr>",
                            "<tr><td>balint1</td><td>462</td></tr>",
                            "<tr><td>jozsef</td><td>382</td></tr>",
                            "<tr><td>robert2</td><td>13</td></tr>",
                            "<tr><td>edit</td><td>13</td></tr>",
                            "<tr><td>norbert2</td><td>11</td></tr>",
                            "<tr><td>polla</td><td>22</td></tr>",
                            "<tr><td>JANOSG</td><td>10</td></tr>",
                            "<tr><td>timea2</td><td>16</td></tr>",
                            "<tr><td>zsuzsa3</td><td>16</td></tr>",
                            "<tr><td>MATEK</td><td>25</td></tr>",
                            "<tr><td>david1</td><td>17</td></tr>",
                            "<tr><td>miklos2</td><td>13</td></tr>",
                            "<tr><td>zsuzsanna</td><td>15</td></tr>",
                            "<tr><td>tihamer</td><td>20</td></tr>",
                            "<tr><td>kristof4</td><td>21</td></tr>",
                            "<tr><td>nikolett3</td><td>17</td></tr>",
                            "<tr><td>tibor2</td><td>25</td></tr>",
                            "<tr><td>peter2</td><td>18</td></tr>",
                            "<tr><td>ARPADM</td><td>16</td></tr>",
                            "<tr><td>lajos</td><td>16</td></tr>",
                            "<tr><td>NANDORF</td><td>420</td></tr>",
                            "<tr><td>gabor4</td><td>20</td></tr>",
                            "<tr><td>MIHALYJ</td><td>13</td></tr>",
                            "<tr><td>marton</td><td>14</td></tr>",
                            "<tr><td>andrea4</td><td>18</td></tr>",
                            "<tr><td>balint</td><td>16</td></tr>",
                            "<tr><td>norbert4</td><td>13</td></tr>",
                            "<tr><td>veronika4</td><td>18</td></tr>",
                            "<tr><td>kati</td><td>13</td></tr>",
                            "<tr><td>istvan</td><td>11</td></tr>",
                            "<tr><td>ARPADH</td><td>14</td></tr>",
                            "<tr><td>andrea</td><td>24</td></tr>",
                            "<tr><td>roza2</td><td>8</td></tr>",
                            "<tr><td>sara</td><td>20</td></tr>",
                            "<tr><td>balazs2</td><td>17</td></tr>",
                            "<tr><td>VIKTORK</td><td>20</td></tr>",
                            "<tr><td>lala</td><td>17</td></tr>",
                            "<tr><td>eszter4</td><td>424</td></tr>",
                            "<tr><td>VIKTORIAU</td><td>14</td></tr>",
                            "<tr><td>annamaria1</td><td>16</td></tr>",
                            "<tr><td>istvan1</td><td>19</td></tr>",
                            "<tr><td>julia4</td><td>14</td></tr>",
                            "<tr><td>bernadett2</td><td>15</td></tr>",
                            "<tr><td>david</td><td>451</td></tr>",
                            "<tr><td>eva</td><td>404</td></tr>",
                            "<tr><td>attila1</td><td>18</td></tr>",
                            "<tr><td>denes</td><td>9</td></tr>",
                            "<tr><td>balazs1</td><td>419</td></tr>",
                            "<tr><td>zoltan4</td><td>424</td></tr>",
                            "<tr><td>balu</td><td>387</td></tr>",
                            "<tr><td>SZABOLCSM</td><td>408</td></tr>",
                            "<tr><td>katalin4</td><td>23</td></tr>",
                            "<tr><td>ZOLTANP</td><td>13</td></tr>",
                            "<tr><td>daniel1</td><td>419</td></tr>",
                            "<tr><td>andi</td><td>18</td></tr>",
                            "<tr><td>timea</td><td>55</td></tr>",
                            "<tr><td>andras3</td><td>9</td></tr>",
                            "<tr><td>nikoletta4</td><td>414</td></tr>",
                            "<tr><td>imre1</td><td>15</td></tr>",
                            "<tr><td>LASZLON</td><td>400</td></tr>",
                            "<tr><td>sandor4</td><td>11</td></tr>",
                            "<tr><td>andras21</td><td>390</td></tr>",
                            "<tr><td>zsuzsa</td><td>16</td></tr>",
                            "<tr><td>kornel4</td><td>11</td></tr>",
                            "<tr><td>ESZTERE</td><td>22</td></tr>",
                            "<tr><td>anett3</td><td>18</td></tr>",
                            "<tr><td>klaudia2</td><td>17</td></tr>",
                            "<tr><td>agnes3</td><td>430</td></tr>",
                            "<tr><td>gabriella1</td><td>14</td></tr>",
                            "<tr><td>krisztian4</td><td>17</td></tr>",
                            "<tr><td>ferenc1</td><td>437</td></tr>",
                            "<tr><td>zsolt1</td><td>20</td></tr>",
                            "<tr><td>brigitta3</td><td>413</td></tr>",
                            "<tr><td>ZOLTANT</td><td>357</td></tr>",
                            "<tr><td>imre</td><td>15</td></tr>",
                            "<tr><td>valentin</td><td>13</td></tr>",
                            "<tr><td>AGNESK</td><td>15</td></tr>",
                            "<tr><td>szilvia1</td><td>445</td></tr>",
                            "<tr><td>MARKH</td><td>412</td></tr>",
                            "<tr><td>SEBASTIANF</td><td>15</td></tr>",
                            "<tr><td>JOZSEFG</td><td>21</td></tr>",
                            "<tr><td>KRISZTINAG</td><td>22</td></tr>",
                            "<tr><td>georgij</td><td>21</td></tr>",
                            "<tr><td>debora</td><td>16</td></tr>",
                            "<tr><td>emese</td><td>406</td></tr>",
                            "<tr><td>IBOLYAA</td><td>422</td></tr>",
                            "<tr><td>tamara2</td><td>13</td></tr>",
                            "<tr><td>MONIKAM</td><td>407</td></tr>",
                            "<tr><td>katka</td><td>22</td></tr>",
                            "<tr><td>norbert5</td><td>16</td></tr>",
                            "<tr><td>LASZLOA</td><td>446</td></tr>",
                            "<tr><td>julia</td><td>435</td></tr>",
                            "<tr><td>NIKOLETTAT</td><td>25</td></tr>",
                            "<tr><td>BEATRIXS</td><td>420</td></tr>",
                            "</table>"
                        ]
                    }
                }
            ],
            "execution_count": 10
        }
    ]
}